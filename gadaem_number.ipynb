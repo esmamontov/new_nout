{
 "cells": [
  {
   "cell_type": "code",
   "execution_count": 12,
   "metadata": {},
   "outputs": [
    {
     "name": "stdout",
     "output_type": "stream",
     "text": [
      "6.743\n"
     ]
    }
   ],
   "source": [
    "import numpy as np\n",
    "import random\n",
    "count_ls = [] # обнуляем массив подсчета в экспериментах\n",
    "random_array = np.random.randint(1, 101, size=(1000)) # создаем массив случайных чисел\n",
    "for num in random_array: # пробегаем весь массив\n",
    "    count=1 #счетчик в первое гадание\n",
    "    gad=num//2 #начальное предположение\n",
    "    while gad!=num: #внутренний цикл пока не совпадем с экспериментальным числом\n",
    "        if gad-num==-1: #условие на отличие от экспериментального числа на 1, исключение из последующих условий, иначе зацикливание\n",
    "            gad=gad+1\n",
    "            count+=1\n",
    "        elif gad<num: #условие если попали слева от заданного\n",
    "            gad=gad+(num-gad)//2\n",
    "            count+=1\n",
    "        else: #условие если попали справа от заданного\n",
    "            gad=num+(gad-num)//2\n",
    "            count+=1\n",
    "    count_ls.append(count) #заполнение массива счетчиков для каждого эксперимента\n",
    "print(np.mean(count_ls)) #вывод среднего числа попыток"
   ]
  },
  {
   "cell_type": "code",
   "execution_count": null,
   "metadata": {},
   "outputs": [],
   "source": []
  }
 ],
 "metadata": {
  "kernelspec": {
   "display_name": "Python 3",
   "language": "python",
   "name": "python3"
  },
  "language_info": {
   "codemirror_mode": {
    "name": "ipython",
    "version": 3
   },
   "file_extension": ".py",
   "mimetype": "text/x-python",
   "name": "python",
   "nbconvert_exporter": "python",
   "pygments_lexer": "ipython3",
   "version": "3.7.4"
  }
 },
 "nbformat": 4,
 "nbformat_minor": 2
}
